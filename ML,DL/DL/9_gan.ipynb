{
 "cells": [
  {
   "cell_type": "code",
   "execution_count": 1,
   "metadata": {},
   "outputs": [
    {
     "name": "stdout",
     "output_type": "stream",
     "text": [
      "WARNING:tensorflow:From <ipython-input-1-03052c1d1b02>:6: read_data_sets (from tensorflow.contrib.learn.python.learn.datasets.mnist) is deprecated and will be removed in a future version.\n",
      "Instructions for updating:\n",
      "Please use alternatives such as official/mnist/dataset.py from tensorflow/models.\n",
      "WARNING:tensorflow:From C:\\ProgramData\\Anaconda3\\envs\\venv\\lib\\site-packages\\tensorflow\\contrib\\learn\\python\\learn\\datasets\\mnist.py:260: maybe_download (from tensorflow.contrib.learn.python.learn.datasets.base) is deprecated and will be removed in a future version.\n",
      "Instructions for updating:\n",
      "Please write your own downloading logic.\n",
      "WARNING:tensorflow:From C:\\ProgramData\\Anaconda3\\envs\\venv\\lib\\site-packages\\tensorflow\\contrib\\learn\\python\\learn\\datasets\\mnist.py:262: extract_images (from tensorflow.contrib.learn.python.learn.datasets.mnist) is deprecated and will be removed in a future version.\n",
      "Instructions for updating:\n",
      "Please use tf.data to implement this functionality.\n",
      "Extracting ./mnist/data/train-images-idx3-ubyte.gz\n",
      "WARNING:tensorflow:From C:\\ProgramData\\Anaconda3\\envs\\venv\\lib\\site-packages\\tensorflow\\contrib\\learn\\python\\learn\\datasets\\mnist.py:267: extract_labels (from tensorflow.contrib.learn.python.learn.datasets.mnist) is deprecated and will be removed in a future version.\n",
      "Instructions for updating:\n",
      "Please use tf.data to implement this functionality.\n",
      "Extracting ./mnist/data/train-labels-idx1-ubyte.gz\n",
      "WARNING:tensorflow:From C:\\ProgramData\\Anaconda3\\envs\\venv\\lib\\site-packages\\tensorflow\\contrib\\learn\\python\\learn\\datasets\\mnist.py:110: dense_to_one_hot (from tensorflow.contrib.learn.python.learn.datasets.mnist) is deprecated and will be removed in a future version.\n",
      "Instructions for updating:\n",
      "Please use tf.one_hot on tensors.\n",
      "Extracting ./mnist/data/t10k-images-idx3-ubyte.gz\n",
      "Extracting ./mnist/data/t10k-labels-idx1-ubyte.gz\n",
      "WARNING:tensorflow:From C:\\ProgramData\\Anaconda3\\envs\\venv\\lib\\site-packages\\tensorflow\\contrib\\learn\\python\\learn\\datasets\\mnist.py:290: DataSet.__init__ (from tensorflow.contrib.learn.python.learn.datasets.mnist) is deprecated and will be removed in a future version.\n",
      "Instructions for updating:\n",
      "Please use alternatives such as official/mnist/dataset.py from tensorflow/models.\n"
     ]
    }
   ],
   "source": [
    "import tensorflow as tf\n",
    "import matplotlib.pyplot as plt\n",
    "import numpy as np\n",
    "\n",
    "from tensorflow.examples.tutorials.mnist import input_data\n",
    "mnist = input_data.read_data_sets(\"./mnist/data/\", one_hot=True)"
   ]
  },
  {
   "cell_type": "code",
   "execution_count": 2,
   "metadata": {},
   "outputs": [],
   "source": [
    "total_epoch = 100\n",
    "batch_size = 100\n",
    "learning_rate = 0.0002\n",
    "n_hidden = 256\n",
    "n_input = 28 * 28\n",
    "n_noise = 128"
   ]
  },
  {
   "cell_type": "code",
   "execution_count": 3,
   "metadata": {},
   "outputs": [],
   "source": [
    "X = tf.placeholder(tf.float32, [None, n_input])\n",
    "Z = tf.placeholder(tf.float32, [None, n_noise])"
   ]
  },
  {
   "cell_type": "code",
   "execution_count": 4,
   "metadata": {},
   "outputs": [],
   "source": [
    "G_W1 = tf.Variable(tf.random_normal([n_noise, n_hidden], stddev=0.01))\n",
    "G_b1 = tf.Variable(tf.zeros([n_hidden]))\n",
    "G_W2 = tf.Variable(tf.random_normal([n_hidden, n_input],stddev=0.01))\n",
    "G_b2 = tf.Variable(tf.zeros([n_input]))"
   ]
  },
  {
   "cell_type": "code",
   "execution_count": 5,
   "metadata": {},
   "outputs": [],
   "source": [
    "D_W1 = tf.Variable(tf.random_normal([n_input, n_hidden], stddev=0.01))\n",
    "D_b1 = tf.Variable(tf.zeros([n_hidden]))\n",
    "D_W2 = tf.Variable(tf.random_normal([n_hidden, 1],stddev=0.01))\n",
    "D_b2 = tf.Variable(tf.zeros([1]))"
   ]
  },
  {
   "cell_type": "code",
   "execution_count": 6,
   "metadata": {},
   "outputs": [],
   "source": [
    "def generator(noise_z):\n",
    "    hidden = tf.nn.relu(tf.matmul(noise_z, G_W1) + G_b1)\n",
    "    output = tf.nn.sigmoid(tf.matmul(hidden, G_W2) + G_b2)\n",
    "    \n",
    "    return output"
   ]
  },
  {
   "cell_type": "code",
   "execution_count": 7,
   "metadata": {},
   "outputs": [],
   "source": [
    "def discriminator(inputs):\n",
    "    hidden = tf.nn.relu(tf.matmul(inputs, D_W1) + D_b1)\n",
    "    output = tf.nn.sigmoid(tf.matmul(hidden, D_W2) + D_b2)\n",
    "    \n",
    "    return output"
   ]
  },
  {
   "cell_type": "code",
   "execution_count": 8,
   "metadata": {},
   "outputs": [],
   "source": [
    "def get_noise(batch_size, n_noise):\n",
    "    return np.random.normal(size=(batch_size, n_noise))"
   ]
  },
  {
   "cell_type": "code",
   "execution_count": 9,
   "metadata": {},
   "outputs": [],
   "source": [
    "G = generator(Z)\n",
    "D_gene = discriminator(G)\n",
    "D_real = discriminator(X)"
   ]
  },
  {
   "cell_type": "code",
   "execution_count": 10,
   "metadata": {},
   "outputs": [],
   "source": [
    "loss_D = tf.reduce_mean(tf.log(D_real) + tf.log(1 - D_gene))"
   ]
  },
  {
   "cell_type": "code",
   "execution_count": 11,
   "metadata": {},
   "outputs": [],
   "source": [
    "loss_G = tf.reduce_mean(tf.log(D_gene))"
   ]
  },
  {
   "cell_type": "code",
   "execution_count": 12,
   "metadata": {},
   "outputs": [],
   "source": [
    "D_var_list = [D_W1, D_b1, D_W2, D_b2]\n",
    "G_var_list = [G_W1, G_b1, G_W2, G_b2]"
   ]
  },
  {
   "cell_type": "code",
   "execution_count": 13,
   "metadata": {},
   "outputs": [],
   "source": [
    "train_D = tf.train.AdamOptimizer(learning_rate).minimize(-loss_D, var_list=D_var_list)\n",
    "train_G = tf.train.AdamOptimizer(learning_rate).minimize(-loss_G, var_list=G_var_list)"
   ]
  },
  {
   "cell_type": "code",
   "execution_count": 15,
   "metadata": {},
   "outputs": [],
   "source": [
    "sess = tf.Session()\n",
    "sess.run(tf.global_variables_initializer())\n",
    "\n",
    "total_batch = int(mnist.train.num_examples / batch_size)\n",
    "loss_val_D, loss_val_G = 0, 0\n"
   ]
  },
  {
   "cell_type": "code",
   "execution_count": 16,
   "metadata": {},
   "outputs": [
    {
     "name": "stdout",
     "output_type": "stream",
     "text": [
      "Epoch: 0000 D loss: -0.4675 G loss: -2.032\n",
      "Epoch: 0001 D loss: -0.5325 G loss: -2.139\n",
      "Epoch: 0002 D loss: -0.1161 G loss: -3.129\n",
      "Epoch: 0003 D loss: -0.4535 G loss: -1.573\n",
      "Epoch: 0004 D loss: -0.2176 G loss: -2.394\n",
      "Epoch: 0005 D loss: -0.2804 G loss: -2.74\n",
      "Epoch: 0006 D loss: -0.2601 G loss: -2.827\n",
      "Epoch: 0007 D loss: -0.1234 G loss: -3.167\n",
      "Epoch: 0008 D loss: -0.2435 G loss: -2.773\n",
      "Epoch: 0009 D loss: -0.2488 G loss: -2.803\n",
      "Epoch: 0010 D loss: -0.2831 G loss: -2.366\n",
      "Epoch: 0011 D loss: -0.3634 G loss: -2.247\n",
      "Epoch: 0012 D loss: -0.2282 G loss: -2.632\n",
      "Epoch: 0013 D loss: -0.4506 G loss: -2.07\n",
      "Epoch: 0014 D loss: -0.3732 G loss: -2.706\n",
      "Epoch: 0015 D loss: -0.365 G loss: -2.49\n",
      "Epoch: 0016 D loss: -0.4907 G loss: -2.21\n",
      "Epoch: 0017 D loss: -0.4773 G loss: -2.303\n",
      "Epoch: 0018 D loss: -0.3883 G loss: -2.762\n",
      "Epoch: 0019 D loss: -0.3171 G loss: -2.573\n",
      "Epoch: 0020 D loss: -0.3206 G loss: -2.787\n",
      "Epoch: 0021 D loss: -0.3508 G loss: -2.771\n",
      "Epoch: 0022 D loss: -0.3106 G loss: -2.772\n",
      "Epoch: 0023 D loss: -0.2233 G loss: -3.249\n",
      "Epoch: 0024 D loss: -0.3457 G loss: -2.696\n",
      "Epoch: 0025 D loss: -0.3241 G loss: -2.817\n",
      "Epoch: 0026 D loss: -0.3747 G loss: -2.645\n",
      "Epoch: 0027 D loss: -0.4144 G loss: -2.745\n",
      "Epoch: 0028 D loss: -0.4078 G loss: -2.558\n",
      "Epoch: 0029 D loss: -0.4379 G loss: -2.721\n",
      "Epoch: 0030 D loss: -0.4332 G loss: -2.575\n",
      "Epoch: 0031 D loss: -0.4091 G loss: -2.648\n",
      "Epoch: 0032 D loss: -0.619 G loss: -2.532\n",
      "Epoch: 0033 D loss: -0.4586 G loss: -2.959\n",
      "Epoch: 0034 D loss: -0.4707 G loss: -2.538\n",
      "Epoch: 0035 D loss: -0.4697 G loss: -2.423\n",
      "Epoch: 0036 D loss: -0.4903 G loss: -2.644\n",
      "Epoch: 0037 D loss: -0.5709 G loss: -2.604\n",
      "Epoch: 0038 D loss: -0.5319 G loss: -2.29\n",
      "Epoch: 0039 D loss: -0.5584 G loss: -2.382\n",
      "Epoch: 0040 D loss: -0.5448 G loss: -2.566\n",
      "Epoch: 0041 D loss: -0.5462 G loss: -2.55\n",
      "Epoch: 0042 D loss: -0.6569 G loss: -2.061\n",
      "Epoch: 0043 D loss: -0.5218 G loss: -2.168\n",
      "Epoch: 0044 D loss: -0.6107 G loss: -2.558\n",
      "Epoch: 0045 D loss: -0.6911 G loss: -2.418\n",
      "Epoch: 0046 D loss: -0.683 G loss: -1.914\n",
      "Epoch: 0047 D loss: -0.6019 G loss: -2.076\n",
      "Epoch: 0048 D loss: -0.7482 G loss: -1.956\n",
      "Epoch: 0049 D loss: -0.4916 G loss: -2.313\n",
      "Epoch: 0050 D loss: -0.76 G loss: -2.34\n",
      "Epoch: 0051 D loss: -0.6686 G loss: -2.227\n",
      "Epoch: 0052 D loss: -0.6699 G loss: -2.137\n",
      "Epoch: 0053 D loss: -0.6424 G loss: -2.115\n",
      "Epoch: 0054 D loss: -0.6706 G loss: -1.842\n",
      "Epoch: 0055 D loss: -0.6643 G loss: -2.293\n",
      "Epoch: 0056 D loss: -0.7451 G loss: -1.962\n",
      "Epoch: 0057 D loss: -0.8003 G loss: -1.989\n",
      "Epoch: 0058 D loss: -0.6952 G loss: -1.873\n",
      "Epoch: 0059 D loss: -0.6485 G loss: -1.95\n",
      "Epoch: 0060 D loss: -0.6908 G loss: -1.96\n",
      "Epoch: 0061 D loss: -0.6465 G loss: -2.002\n",
      "Epoch: 0062 D loss: -0.827 G loss: -1.742\n",
      "Epoch: 0063 D loss: -0.7922 G loss: -2.058\n",
      "Epoch: 0064 D loss: -0.7932 G loss: -1.964\n",
      "Epoch: 0065 D loss: -0.6917 G loss: -2.106\n",
      "Epoch: 0066 D loss: -0.7801 G loss: -2.16\n",
      "Epoch: 0067 D loss: -0.7536 G loss: -1.845\n",
      "Epoch: 0068 D loss: -0.7201 G loss: -2.005\n",
      "Epoch: 0069 D loss: -0.7923 G loss: -1.974\n",
      "Epoch: 0070 D loss: -0.728 G loss: -1.984\n",
      "Epoch: 0071 D loss: -0.7189 G loss: -1.845\n",
      "Epoch: 0072 D loss: -0.7227 G loss: -2.0\n",
      "Epoch: 0073 D loss: -0.735 G loss: -2.051\n",
      "Epoch: 0074 D loss: -0.7612 G loss: -1.775\n",
      "Epoch: 0075 D loss: -0.7828 G loss: -1.941\n",
      "Epoch: 0076 D loss: -0.8665 G loss: -2.033\n",
      "Epoch: 0077 D loss: -0.9051 G loss: -2.004\n",
      "Epoch: 0078 D loss: -0.7281 G loss: -2.015\n",
      "Epoch: 0079 D loss: -0.8123 G loss: -1.812\n",
      "Epoch: 0080 D loss: -0.7149 G loss: -1.785\n",
      "Epoch: 0081 D loss: -0.6937 G loss: -2.14\n",
      "Epoch: 0082 D loss: -0.6896 G loss: -1.918\n",
      "Epoch: 0083 D loss: -0.8012 G loss: -2.039\n",
      "Epoch: 0084 D loss: -0.82 G loss: -1.899\n",
      "Epoch: 0085 D loss: -0.73 G loss: -1.708\n",
      "Epoch: 0086 D loss: -0.804 G loss: -2.014\n",
      "Epoch: 0087 D loss: -0.7305 G loss: -1.857\n",
      "Epoch: 0088 D loss: -0.6965 G loss: -1.744\n",
      "Epoch: 0089 D loss: -0.8826 G loss: -1.727\n",
      "Epoch: 0090 D loss: -0.749 G loss: -1.93\n",
      "Epoch: 0091 D loss: -0.7604 G loss: -1.86\n",
      "Epoch: 0092 D loss: -0.6339 G loss: -1.904\n",
      "Epoch: 0093 D loss: -0.7268 G loss: -1.863\n",
      "Epoch: 0094 D loss: -0.7351 G loss: -1.887\n",
      "Epoch: 0095 D loss: -0.5516 G loss: -1.979\n",
      "Epoch: 0096 D loss: -0.6346 G loss: -1.99\n",
      "Epoch: 0097 D loss: -0.7377 G loss: -1.86\n",
      "Epoch: 0098 D loss: -0.7116 G loss: -1.837\n",
      "Epoch: 0099 D loss: -0.5906 G loss: -1.945\n"
     ]
    }
   ],
   "source": [
    "for epoch in range(total_epoch):\n",
    "    for i in range(total_batch):\n",
    "        batch_xs, batch_ys = mnist.train.next_batch(batch_size)\n",
    "        noise = get_noise(batch_size, n_noise)\n",
    "        \n",
    "        _, loss_val_D = sess.run([train_D, loss_D],feed_dict={X:batch_xs, Z:noise})\n",
    "        _, loss_val_G = sess.run([train_G, loss_G], feed_dict={Z: noise})\n",
    "        \n",
    "    print('Epoch:', '%04d' %epoch,\n",
    "         'D loss: {:.4}'.format(loss_val_D),\n",
    "         'G loss: {:.4}'.format(loss_val_G))"
   ]
  },
  {
   "cell_type": "code",
   "execution_count": 19,
   "metadata": {},
   "outputs": [
    {
     "name": "stdout",
     "output_type": "stream",
     "text": [
      "stablelize done\n"
     ]
    }
   ],
   "source": [
    "    ,if epoch == 0 or (epoch + 1) % 10 == 0:\n",
    "        sample_size = 10\n",
    "        noise = get_noise(sample_size, n_noise)\n",
    "        samples = sess.run(G, feed_dict={Z: noise})\n",
    "    \n",
    "        fig, ax = plt.subplots(1, sample_size, figsize=(sample_size, 1))\n",
    "\n",
    "        for i in range(sample_size):\n",
    "            ax[i].set_axis_off()\n",
    "            ax[i].imshow(np.reshape(samples[i], (28, 28)))\n",
    "\n",
    "        plt.savefig('samples/{}.png'.format(str(epoch).zfill(3)), bbox_inches='tight')\n",
    "        plt.close(fig)\n",
    "\n",
    "print('stablelize done')"
   ]
  },
  {
   "cell_type": "code",
   "execution_count": null,
   "metadata": {},
   "outputs": [],
   "source": []
  }
 ],
 "metadata": {
  "kernelspec": {
   "display_name": "Python 3",
   "language": "python",
   "name": "python3"
  },
  "language_info": {
   "codemirror_mode": {
    "name": "ipython",
    "version": 3
   },
   "file_extension": ".py",
   "mimetype": "text/x-python",
   "name": "python",
   "nbconvert_exporter": "python",
   "pygments_lexer": "ipython3",
   "version": "3.6.8"
  }
 },
 "nbformat": 4,
 "nbformat_minor": 2
}
