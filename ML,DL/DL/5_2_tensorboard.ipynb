{
 "cells": [
  {
   "cell_type": "code",
   "execution_count": 1,
   "metadata": {},
   "outputs": [],
   "source": [
    "import tensorflow as tf\n",
    "import numpy as np\n",
    "\n",
    "data = np.loadtxt('./data.csv', delimiter=',', unpack=True, dtype='float32')\n",
    "\n",
    "x_data = np.transpose(data[0:2])\n",
    "y_data = np.transpose(data[2:])"
   ]
  },
  {
   "cell_type": "code",
   "execution_count": 2,
   "metadata": {},
   "outputs": [],
   "source": [
    "global_step = tf.Variable(0, trainable=False, name='global_step')\n",
    "\n",
    "X = tf.placeholder(tf.float32)\n",
    "Y = tf.placeholder(tf.float32)"
   ]
  },
  {
   "cell_type": "code",
   "execution_count": 3,
   "metadata": {},
   "outputs": [],
   "source": [
    "with tf.name_scope('layer1'):\n",
    "    W1 = tf.Variable(tf.random_uniform([2, 10], -1., 1.), name='W1')\n",
    "    L1 = tf.nn.relu(tf.matmul(X, W1))\n",
    "\n",
    "with tf.name_scope('layer2'):\n",
    "    W2 = tf.Variable(tf.random_uniform([10, 20], -1., 1.), name='W2')\n",
    "    L2 = tf.nn.relu(tf.matmul(L1, W2))\n",
    "\n",
    "with tf.name_scope('output'):\n",
    "    W3 = tf.Variable(tf.random_uniform([20, 3], -1., 1.), name='W3')\n",
    "    model = tf.matmul(L2, W3)\n",
    "\n",
    "with tf.name_scope('optimizer'):\n",
    "    cost = tf.reduce_mean(\n",
    "        tf.nn.softmax_cross_entropy_with_logits_v2(labels=Y, logits=model))\n",
    "\n",
    "    optimizer = tf.train.AdamOptimizer(learning_rate=0.01)\n",
    "    train_op = optimizer.minimize(cost, global_step=global_step)"
   ]
  },
  {
   "cell_type": "code",
   "execution_count": 23,
   "metadata": {},
   "outputs": [
    {
     "data": {
      "text/plain": [
       "<tf.Tensor 'cost_2:0' shape=() dtype=string>"
      ]
     },
     "execution_count": 23,
     "metadata": {},
     "output_type": "execute_result"
    }
   ],
   "source": [
    " tf.summary.scalar('cost', cost)\n",
    " tf.summary.histogram('cost', cost)"
   ]
  },
  {
   "cell_type": "code",
   "execution_count": 24,
   "metadata": {},
   "outputs": [
    {
     "name": "stdout",
     "output_type": "stream",
     "text": [
      "INFO:tensorflow:Restoring parameters from ./model\\dnn.ckpt-100\n"
     ]
    }
   ],
   "source": [
    "sess = tf.Session()\n",
    "saver = tf.train.Saver(tf.global_variables())\n",
    "\n",
    "ckpt = tf.train.get_checkpoint_state('./model')\n",
    "if ckpt and tf.train.checkpoint_exists(ckpt.model_checkpoint_path):\n",
    "    saver.restore(sess, ckpt.model_checkpoint_path)\n",
    "else:\n",
    "    sess.run(tf.global_variables_initializer())"
   ]
  },
  {
   "cell_type": "code",
   "execution_count": 25,
   "metadata": {},
   "outputs": [],
   "source": [
    "merged = tf.summary.merge_all()\n",
    "writer = tf.summary.FileWriter('./logs', sess.graph)\n"
   ]
  },
  {
   "cell_type": "code",
   "execution_count": 26,
   "metadata": {},
   "outputs": [
    {
     "name": "stdout",
     "output_type": "stream",
     "text": [
      "Step: 101,  Cost: 0.550\n",
      "Step: 102,  Cost: 0.550\n",
      "Step: 103,  Cost: 0.550\n",
      "Step: 104,  Cost: 0.550\n",
      "Step: 105,  Cost: 0.550\n",
      "Step: 106,  Cost: 0.550\n",
      "Step: 107,  Cost: 0.550\n",
      "Step: 108,  Cost: 0.550\n",
      "Step: 109,  Cost: 0.550\n",
      "Step: 110,  Cost: 0.550\n",
      "Step: 111,  Cost: 0.550\n",
      "Step: 112,  Cost: 0.550\n",
      "Step: 113,  Cost: 0.550\n",
      "Step: 114,  Cost: 0.550\n",
      "Step: 115,  Cost: 0.550\n",
      "Step: 116,  Cost: 0.550\n",
      "Step: 117,  Cost: 0.550\n",
      "Step: 118,  Cost: 0.550\n",
      "Step: 119,  Cost: 0.550\n",
      "Step: 120,  Cost: 0.550\n",
      "Step: 121,  Cost: 0.550\n",
      "Step: 122,  Cost: 0.550\n",
      "Step: 123,  Cost: 0.550\n",
      "Step: 124,  Cost: 0.550\n",
      "Step: 125,  Cost: 0.550\n",
      "Step: 126,  Cost: 0.550\n",
      "Step: 127,  Cost: 0.550\n",
      "Step: 128,  Cost: 0.550\n",
      "Step: 129,  Cost: 0.550\n",
      "Step: 130,  Cost: 0.550\n",
      "Step: 131,  Cost: 0.550\n",
      "Step: 132,  Cost: 0.550\n",
      "Step: 133,  Cost: 0.550\n",
      "Step: 134,  Cost: 0.550\n",
      "Step: 135,  Cost: 0.550\n",
      "Step: 136,  Cost: 0.550\n",
      "Step: 137,  Cost: 0.550\n",
      "Step: 138,  Cost: 0.550\n",
      "Step: 139,  Cost: 0.550\n",
      "Step: 140,  Cost: 0.550\n",
      "Step: 141,  Cost: 0.550\n",
      "Step: 142,  Cost: 0.550\n",
      "Step: 143,  Cost: 0.550\n",
      "Step: 144,  Cost: 0.550\n",
      "Step: 145,  Cost: 0.550\n",
      "Step: 146,  Cost: 0.550\n",
      "Step: 147,  Cost: 0.550\n",
      "Step: 148,  Cost: 0.550\n",
      "Step: 149,  Cost: 0.550\n",
      "Step: 150,  Cost: 0.550\n",
      "Step: 151,  Cost: 0.550\n",
      "Step: 152,  Cost: 0.550\n",
      "Step: 153,  Cost: 0.550\n",
      "Step: 154,  Cost: 0.550\n",
      "Step: 155,  Cost: 0.550\n",
      "Step: 156,  Cost: 0.550\n",
      "Step: 157,  Cost: 0.550\n",
      "Step: 158,  Cost: 0.550\n",
      "Step: 159,  Cost: 0.550\n",
      "Step: 160,  Cost: 0.550\n",
      "Step: 161,  Cost: 0.550\n",
      "Step: 162,  Cost: 0.550\n",
      "Step: 163,  Cost: 0.550\n",
      "Step: 164,  Cost: 0.550\n",
      "Step: 165,  Cost: 0.550\n",
      "Step: 166,  Cost: 0.550\n",
      "Step: 167,  Cost: 0.550\n",
      "Step: 168,  Cost: 0.550\n",
      "Step: 169,  Cost: 0.550\n",
      "Step: 170,  Cost: 0.550\n",
      "Step: 171,  Cost: 0.550\n",
      "Step: 172,  Cost: 0.550\n",
      "Step: 173,  Cost: 0.550\n",
      "Step: 174,  Cost: 0.550\n",
      "Step: 175,  Cost: 0.550\n",
      "Step: 176,  Cost: 0.550\n",
      "Step: 177,  Cost: 0.550\n",
      "Step: 178,  Cost: 0.550\n",
      "Step: 179,  Cost: 0.550\n",
      "Step: 180,  Cost: 0.550\n",
      "Step: 181,  Cost: 0.550\n",
      "Step: 182,  Cost: 0.550\n",
      "Step: 183,  Cost: 0.550\n",
      "Step: 184,  Cost: 0.550\n",
      "Step: 185,  Cost: 0.550\n",
      "Step: 186,  Cost: 0.550\n",
      "Step: 187,  Cost: 0.550\n",
      "Step: 188,  Cost: 0.550\n",
      "Step: 189,  Cost: 0.550\n",
      "Step: 190,  Cost: 0.550\n",
      "Step: 191,  Cost: 0.550\n",
      "Step: 192,  Cost: 0.550\n",
      "Step: 193,  Cost: 0.550\n",
      "Step: 194,  Cost: 0.550\n",
      "Step: 195,  Cost: 0.550\n",
      "Step: 196,  Cost: 0.550\n",
      "Step: 197,  Cost: 0.550\n",
      "Step: 198,  Cost: 0.550\n",
      "Step: 199,  Cost: 0.550\n",
      "Step: 200,  Cost: 0.550\n"
     ]
    }
   ],
   "source": [
    "for step in range(100):\n",
    "    sess.run(train_op, feed_dict={X: x_data, Y: y_data})\n",
    "\n",
    "    print('Step: %d, ' % sess.run(global_step),\n",
    "          'Cost: %.3f' % sess.run(cost, feed_dict={X: x_data, Y: y_data}))\n",
    "\n",
    "    summary = sess.run(merged, feed_dict={X: x_data, Y: y_data})\n",
    "    writer.add_summary(summary, global_step=sess.run(global_step))\n"
   ]
  },
  {
   "cell_type": "code",
   "execution_count": 27,
   "metadata": {},
   "outputs": [
    {
     "data": {
      "text/plain": [
       "'./model/dnn.ckpt-200'"
      ]
     },
     "execution_count": 27,
     "metadata": {},
     "output_type": "execute_result"
    }
   ],
   "source": [
    "saver.save(sess, './model/dnn.ckpt', global_step=global_step)\n"
   ]
  },
  {
   "cell_type": "code",
   "execution_count": 28,
   "metadata": {},
   "outputs": [
    {
     "name": "stdout",
     "output_type": "stream",
     "text": [
      "예측값: [0 1 2 0 0 2]\n",
      "실제값: [0 1 2 0 0 2]\n",
      "정확도: 100.00\n"
     ]
    }
   ],
   "source": [
    "prediction = tf.argmax(model, 1)\n",
    "target = tf.argmax(Y, 1)\n",
    "print('예측값:', sess.run(prediction, feed_dict={X: x_data}))\n",
    "print('실제값:', sess.run(target, feed_dict={Y: y_data}))\n",
    "\n",
    "is_correct = tf.equal(prediction, target)\n",
    "accuracy = tf.reduce_mean(tf.cast(is_correct, tf.float32))\n",
    "print('정확도: %.2f' % sess.run(accuracy * 100, feed_dict={X: x_data, Y: y_data}))\n"
   ]
  },
  {
   "cell_type": "code",
   "execution_count": 22,
   "metadata": {},
   "outputs": [
    {
     "ename": "SyntaxError",
     "evalue": "invalid syntax (<ipython-input-22-d1b060d36c84>, line 1)",
     "output_type": "error",
     "traceback": [
      "\u001b[1;36m  File \u001b[1;32m\"<ipython-input-22-d1b060d36c84>\"\u001b[1;36m, line \u001b[1;32m1\u001b[0m\n\u001b[1;33m    python main.py --logdir=C:\\Users\\Administrator.WIN-UASG1AEGV4D\\tensorflow/logs\u001b[0m\n\u001b[1;37m              ^\u001b[0m\n\u001b[1;31mSyntaxError\u001b[0m\u001b[1;31m:\u001b[0m invalid syntax\n"
     ]
    }
   ],
   "source": []
  },
  {
   "cell_type": "markdown",
   "metadata": {},
   "source": [
    "* activate venv\n",
    "* cd  c:\\programdata\\anaconda3\\envs\\venv\\lib\\site-packages\n",
    "* cd tensorboard\n",
    "* python main.py --logdir=C:\\Users\\Administrator.WIN-UASG1AEGV4D\\tensorflow/logs"
   ]
  },
  {
   "cell_type": "markdown",
   "metadata": {},
   "source": [
    "python3 -m tensorboard.main --logdir=~/my/training/dir\n",
    "alias tensorboard='python3 -m tensorboard.main'"
   ]
  }
 ],
 "metadata": {
  "kernelspec": {
   "display_name": "Python 3",
   "language": "python",
   "name": "python3"
  },
  "language_info": {
   "codemirror_mode": {
    "name": "ipython",
    "version": 3
   },
   "file_extension": ".py",
   "mimetype": "text/x-python",
   "name": "python",
   "nbconvert_exporter": "python",
   "pygments_lexer": "ipython3",
   "version": "3.6.8"
  }
 },
 "nbformat": 4,
 "nbformat_minor": 2
}
