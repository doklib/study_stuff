{
 "cells": [
  {
   "cell_type": "code",
   "execution_count": null,
   "metadata": {},
   "outputs": [],
   "source": [
    "import requests\n",
    "\n",
    "# Session 생성\n",
    "#s = requests.Session()\n",
    "\n",
    "# HTTP GET Request: requests 대신 s 객체를 사용\n",
    "#req = s.get('https://www.clien.net/service/')\n",
    "\n",
    "# HTML 소스 가져오기\n",
    "#html = req.text\n",
    "\n",
    "# HTTP Header 가져오기\n",
    "#header = req.headers\n",
    "\n",
    "# HTTP Status 가져오기 (200: ok)\n",
    "#status = req.status_code\n",
    "\n",
    "# HTTP가 정상적으로 되었는지 (true/false)\n",
    "#is_ok = req.ok"
   ]
  },
  {
   "cell_type": "code",
   "execution_count": 2,
   "metadata": {},
   "outputs": [],
   "source": [
    "# Session 생성, with 구문 안에서 유지\n",
    "with requests.Session() as s:\n",
    "    # HTTP GET Request: requests 대신 s 객체를 사용\n",
    "    req = s.get('https://www.clien.net/service/')\n",
    "    # HTML 소스 가져오기\n",
    "    html = req.text\n",
    "\n",
    "    # HTTP Header 가져오기\n",
    "    header = req.headers\n",
    "\n",
    "    # HTTP Status 가져오기 (200: ok)\n",
    "    status = req.status_code\n",
    "\n",
    "    # HTTP가 정상적으로 되었는지 (true/false)\n",
    "    is_ok = req.ok"
   ]
  },
  {
   "cell_type": "code",
   "execution_count": 3,
   "metadata": {},
   "outputs": [
    {
     "ename": "SyntaxError",
     "evalue": "invalid syntax (<ipython-input-3-8cee807c2715>, line 1)",
     "output_type": "error",
     "traceback": [
      "\u001b[1;36m  File \u001b[1;32m\"<ipython-input-3-8cee807c2715>\"\u001b[1;36m, line \u001b[1;32m1\u001b[0m\n\u001b[1;33m    function Auth() {\u001b[0m\n\u001b[1;37m                ^\u001b[0m\n\u001b[1;31mSyntaxError\u001b[0m\u001b[1;31m:\u001b[0m invalid syntax\n"
     ]
    }
   ],
   "source": [
    "function Auth() {\n",
    "    var _this = this; # _this에 Auth라는 함수를 넣었습니다.\n",
    "    _this.env = {};\n",
    "    _this.env.form = $('#loginForm'); # 로그인 폼입니다. id, pw, _cerf 등을 받는다.\n",
    "    _this env.iptUserId = _this.env.form.find('*[name=userId]'); # 사용자가 폼에 입력한 ID\n",
    "    _this.env.iptUserPassWord = _this.env.form.find('*[name=userPassword]'); # 사용자가 폼에 입력한 PW\n",
    "    \n",
    "    _this.loginValidate= function() {\n",
    "        var isValid = true; # 아이디, 비번이 들어왔다면 true 반환\n",
    "        if (_this.env.iptUserId.val().trim() == '') { # 아이디가 빈칸이면 false\n",
    "            alert('아이디를 입력하세요.');\n",
    "            _this.env.iptUserId.focus();\n",
    "            isValid = false;\n",
    "            return isValid;\n",
    "        }\n",
    "        return isValid;\n",
    "    };\n",
    "    \n",
    "    _this.login = function() {\n",
    "        var isValid = _this.loginValidate(); # 방금 아이디/비번이 빈칸인지 확인\n",
    "        if (isValid) { # 빈칸이 아니라면\n",
    "            _this.env.form.attr({ # 폼 속성을 정의해 줍시다.\n",
    "                method: 'POST', # 폼 전송 방식은 'POST'이고,\n",
    "                action: BASE_URL + '/login' # 폼 전송하는 주소는 https://www.clien.net/service/login\n",
    "            });\n",
    "            _this.env.form.submit(); #폼을 전송해줍니다.\n",
    "        }\n",
    "    };\n",
    "}"
   ]
  },
  {
   "cell_type": "code",
   "execution_count": 4,
   "metadata": {},
   "outputs": [
    {
     "name": "stdout",
     "output_type": "stream",
     "text": [
      "404\n"
     ]
    }
   ],
   "source": [
    "#import requests\n",
    "\n",
    "# 로그인할 유저정보를 넣어주자 (모두 문자열)\n",
    "#LOGIN_INFO = {\n",
    "    'userId': '사용자이름',\n",
    "    'userPassword': '사용자패스워드'\n",
    "}\n",
    "\n",
    "# Session 생성, with 구문 안에서 유지\n",
    "#with requests.Session() as s:\n",
    "    # HTTP POST request: 로그인을 위해 POST url와 함께 전송될 data를 넣어주자.\n",
    "    login_req = s.post('https://www.clien.net/service/login', data=LOGIN_INFO)\n",
    "    # 결과 출력\n",
    "    print(login_req.status_code)"
   ]
  },
  {
   "cell_type": "code",
   "execution_count": 7,
   "metadata": {},
   "outputs": [
    {
     "name": "stdout",
     "output_type": "stream",
     "text": [
      "32f89fd9-acce-46e2-bcc3-355724e9138d\n",
      "{'userId': 'hanksywon', 'userPassword': '920621', '_csrf': '32f89fd9-acce-46e2-bcc3-355724e9138d'}\n",
      "200\n"
     ]
    }
   ],
   "source": [
    "import requests\n",
    "from bs4 import BeautifulSoup as bs\n",
    "\n",
    "# 로그인할 유저정보를 넣어주자 (모두 문자열)\n",
    "LOGIN_INFO = {\n",
    "    'userId': 'hanksywon',\n",
    "    'userPassword': '920621' #mypassword\n",
    "}\n",
    "\n",
    "# Session 생성, with 구문 안에서 유지\n",
    "with requests.Session() as s:\n",
    "    # 클리알 홈페이지로\n",
    "    first_page = s.get('https://www.clien.net/service')\n",
    "    html = first_page.text\n",
    "    soup = bs(html, 'html.parser')\n",
    "    csrf = soup.find('input', {'name':'_csrf'}) #input태그 중에 name이 _csrf인 것을 찾습니다.\n",
    "    print(csrf['value']) # 위에서 찾은 태그의 value를 가져옵니다.\n",
    "    \n",
    "    # 이제 LOGIN_INFO에 csrf값을 넣어줍시다.\n",
    "    # (p.s.)Python3에서 두 dict를 합치는 방법은 {**dict1, **dict2} 으로 dict들을 unpacking하는 것입니다.\n",
    "    LOGIN_INFO = {**LOGIN_INFO, **{'_csrf': csrf['value']}}\n",
    "    print(LOGIN_INFO)\n",
    "    \n",
    "    # 다시 로그인                               \n",
    "    # HTTP POST request: 로그인을 위해 POST url와 함께 전송될 data를 넣어주자.\n",
    "    login_req = s.post('https://www.clien.net/service/login', data=LOGIN_INFO)\n",
    "    # 결과 출력\n",
    "    # 200?                               \n",
    "    print(login_req.status_code)"
   ]
  },
  {
   "cell_type": "code",
   "execution_count": null,
   "metadata": {},
   "outputs": [],
   "source": []
  }
 ],
 "metadata": {
  "kernelspec": {
   "display_name": "Python 3",
   "language": "python",
   "name": "python3"
  },
  "language_info": {
   "codemirror_mode": {
    "name": "ipython",
    "version": 3
   },
   "file_extension": ".py",
   "mimetype": "text/x-python",
   "name": "python",
   "nbconvert_exporter": "python",
   "pygments_lexer": "ipython3",
   "version": "3.7.0"
  }
 },
 "nbformat": 4,
 "nbformat_minor": 2
}
