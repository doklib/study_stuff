{
 "cells": [
  {
   "cell_type": "markdown",
   "metadata": {},
   "source": [
    "http://beomi.github.io/beomi.github.io_old/"
   ]
  },
  {
   "cell_type": "code",
   "execution_count": 1,
   "metadata": {},
   "outputs": [],
   "source": [
    "import requests\n",
    "from bs4 import BeautifulSoup"
   ]
  },
  {
   "cell_type": "code",
   "execution_count": 2,
   "metadata": {},
   "outputs": [],
   "source": [
    "## HTTP GET Request\n",
    "req = requests.get('http://beomi.github.io/beomi.github.io_old/')"
   ]
  },
  {
   "cell_type": "code",
   "execution_count": 3,
   "metadata": {},
   "outputs": [],
   "source": [
    "## HTML 소스 가져오기\n",
    "html = req.text"
   ]
  },
  {
   "cell_type": "code",
   "execution_count": 4,
   "metadata": {},
   "outputs": [],
   "source": [
    "## 첫 인자는 html소스코드, 두 번째 인자는 어떤 parser를 이용할지 명시.\n",
    "## 이 글에서는 Python 내장 html.parser를 이용했다.\n",
    "soup = BeautifulSoup(html, 'html.parser')"
   ]
  },
  {
   "cell_type": "code",
   "execution_count": 5,
   "metadata": {},
   "outputs": [],
   "source": [
    "## CSS Selector를 통해 html요소들을 찾아낸다.\n",
    "my_titles = soup.select(\n",
    "    'h3 > a'\n",
    "    )"
   ]
  },
  {
   "cell_type": "code",
   "execution_count": 6,
   "metadata": {},
   "outputs": [
    {
     "name": "stdout",
     "output_type": "stream",
     "text": [
      "나만의 웹 크롤러 만들기(4): Django로 크롤링한 데이터 저장하기\n",
      "/beomi.github.io_old/python/2017/02/28/HowToMakeWebCrawler-Save-with-Django.html\n",
      "나만의 웹 크롤러 만들기(3): Selenium으로 무적 크롤러 만들기\n",
      "/beomi.github.io_old/python/2017/02/27/HowToMakeWebCrawler-With-Selenium.html\n",
      "Django에 Social Login 붙이기: Django세팅부터 Facebook/Google 개발 설정까지\n",
      "/beomi.github.io_old/python/2017/02/08/Setup-SocialAuth-for-Django.html\n",
      "Django에 Custom인증 붙이기\n",
      "/beomi.github.io_old/python/2017/02/01/Django-CustomAuth.html\n",
      "나만의 웹 크롤러 만들기(2): Login with Session\n",
      "/beomi.github.io_old/python/2017/01/20/HowToMakeWebCrawler-With-Login.html\n",
      "나만의 웹 크롤러 만들기 with Requests/BeautifulSoup\n",
      "/beomi.github.io_old/python/2017/01/19/HowToMakeWebCrawler.html\n",
      "Celery로 TelegramBot 알림 보내기\n",
      "/beomi.github.io_old/2016/12/27/TelegramBot-with-Celery.html\n",
      "Virtualenv/VirtualenvWrapper OS별 설치&이용법\n",
      "/beomi.github.io_old/2016/12/27/HowToSetup-Virtualenv-VirtualenvWrapper.html\n",
      "[DjangoTDDStudy] #02: UnitTest 이용해 기능 테스트 하기\n",
      "/beomi.github.io_old/djangotddstudy/2016/12/26/Django-TDD-Study-02-Using-UnitTest.html\n",
      "[DjangoTDDStudy] #01: 개발환경 세팅하기(Selenium / ChromeDriver)\n",
      "/beomi.github.io_old/djangotddstudy/2016/12/26/Django-TDD-Study-01-Setting-DevEnviron.html\n",
      "[DjangoTDDStudy] #00: 스터디를 시작하며\n",
      "/beomi.github.io_old/djangotddstudy/2016/12/26/Django-TDD-Study-00-Starting-Study.html\n",
      "Fabric Put 커맨드가 No Such File Exception을 반환할 때 해결법\n",
      "/beomi.github.io_old/2016/12/21/Fabric-Put-Command-No-Such-File-Exception.html\n",
      "CKEditor의 라이센스와 오픈소스 라이센스\n",
      "/beomi.github.io_old/2016/12/21/CKEditor-Lisence-and-Pricing.html\n",
      "ReactNative The Basis 번역을 끝냈습니다.\n",
      "/beomi.github.io_old/translation/2016/12/20/ReactNative-Translation-Intro-Finish.html\n",
      "[React Native 번역]#01: 시작하기\n",
      "/beomi.github.io_old/translation/2016/11/15/ReactNative-Translation-01-getting-started.html\n",
      "[번역] 장고(Django)와 함께하는 Celery 첫걸음\n",
      "/beomi.github.io_old/django-celery/programming/python/translation/2016/11/04/eb-b2-88-ec-97-ad-ec-9e-a5-ea-b3-a0django-ec-99-80-ed-95-a8-ea-bb-98-ed-95-98-eb-8a-94-celery-ec-b2-ab-ea-b1-b8-ec-9d-8c.html\n",
      "Chrome Native Adblockr 대체하기\n",
      "/beomi.github.io_old/tech/2016/09/14/chrome-native-adblockr-eb-8c-80-ec-b2-b4-ed-95-98-ea-b8-b0.html\n",
      "CustoMac 설치 분투기\n",
      "/beomi.github.io_old/dev%20env%20setup/mac%20/%20os%20x/tech/2016/08/09/customac-ec-84-a4-ec-b9-98-eb-b6-84-ed-88-ac-ea-b8-b0.html\n",
      "Ubuntu14.04에 OhMyZsh 설치\n",
      "/beomi.github.io_old/dev%20env%20setup/tech/ubuntu%20/%20debian/2016/07/22/ubuntu14-04-ec-97-90-ohmyzsh-ec-84-a4-ec-b9-98.html\n",
      "Ubuntu14.04에서 pip로 mysqlclient 설치 실패시\n",
      "/beomi.github.io_old/programming/python/tech/2016/07/22/ubuntu14-04-ec-97-90-ec-84-9c-pip-eb-a1-9c-mysqlclient-ec-84-a4-ec-b9-98-ec-8b-a4-ed-8c-a8-ec-8b-9c.html\n",
      "Ubuntu14.04에서 Python3기반 virtualenvwrapper 설치\n",
      "/beomi.github.io_old/mac%20/%20os%20x/programming/python/tech/2016/07/22/ubuntu14-04-ec-97-90-ec-84-9c-python3-ea-b8-b0-eb-b0-98-virtualenvwrapper-ec-84-a4-ec-b9-98.html\n",
      "mac OS X에서 pip virtualenvwrapper 설치 시 uninstalling six 에서 Exception 발생 시\n",
      "/beomi.github.io_old/mac%20/%20os%20x/programming/python/tech/2016/07/21/mac-os-x-ec-97-90-ec-84-9c-pip-virtualenvwrapper-ec-84-a4-ec-b9-98-ec-8b-9c-uninstalling-six-ec-97-90-ec-84-9c-exception-eb-b0-9c-ec-83-9d-ec-8b-9c.html\n",
      "Fabric for Python3 (Fabric3)\n",
      "/beomi.github.io_old/programming/python/2016/07/17/fabric-for-python3-fabric3.html\n",
      "Windows에서 pip로 mysqlclient 설치 실패시(python3.4/3.5)\n",
      "/beomi.github.io_old/programming/python/2016/06/04/windows-ec-97-90-ec-84-9c-pip-eb-a1-9c-mysqlclient-ec-84-a4-ec-b9-98-ec-8b-a4-ed-8c-a8-ec-8b-9cpython3-43-5.html\n",
      "맥에서 윈도RDP로 접속시 한영전환하기.\n",
      "/beomi.github.io_old/mac%20/%20os%20x/tech/2016/05/27/eb-a7-a5-ec-97-90-ec-84-9c-ec-9c-88-eb-8f-84rdp-eb-a1-9c-ec-a0-91-ec-86-8d-ec-8b-9c-ed-95-9c-ec-98-81-ec-a0-84-ed-99-98-ed-95-98-ea-b8-b0.html\n",
      "pip로 mysqlclient설치 중 mac os x에서 egg_info / OSError 발생시 대처방법\n",
      "/beomi.github.io_old/programming/python/2016/05/27/pip-eb-a1-9c-mysqlclient-ec-84-a4-ec-b9-98-ec-a4-91-mac-os-x-ec-97-90-ec-84-9c-egg_info-oserror-eb-b0-9c-ec-83-9d-ec-8b-9c-eb-8c-80-ec-b2-98-eb-b0-a9-eb-b2-95.html\n"
     ]
    }
   ],
   "source": [
    "## my_titles는 list 객체\n",
    "for title in my_titles:\n",
    "    ## Tag안의 텍스트\n",
    "    print(title.text)\n",
    "    ## Tag의 속성을 가져오기(ex: href속성)\n",
    "    print(title.get('href'))"
   ]
  },
  {
   "cell_type": "code",
   "execution_count": 7,
   "metadata": {},
   "outputs": [],
   "source": [
    "import json\n",
    "import os"
   ]
  },
  {
   "cell_type": "code",
   "execution_count": 18,
   "metadata": {},
   "outputs": [
    {
     "data": {
      "text/plain": [
       "'C:\\\\Users\\\\Administrator.WIN-UASG1AEGV4D'"
      ]
     },
     "execution_count": 18,
     "metadata": {},
     "output_type": "execute_result"
    }
   ],
   "source": [
    "BASE_DIR = os.path.dirname(os.path.abspath(r'C:\\Users\\Administrator.WIN-UASG1AEGV4D\\crawling'))\n",
    "BASE_DIR"
   ]
  },
  {
   "cell_type": "code",
   "execution_count": 34,
   "metadata": {
    "scrolled": true
   },
   "outputs": [
    {
     "data": {
      "text/plain": [
       "[<a href=\"/beomi.github.io_old/python/2017/02/28/HowToMakeWebCrawler-Save-with-Django.html\">나만의 웹 크롤러 만들기(4): Django로 크롤링한 데이터 저장하기</a>,\n",
       " <a href=\"/beomi.github.io_old/python/2017/02/27/HowToMakeWebCrawler-With-Selenium.html\">나만의 웹 크롤러 만들기(3): Selenium으로 무적 크롤러 만들기</a>,\n",
       " <a href=\"/beomi.github.io_old/python/2017/02/08/Setup-SocialAuth-for-Django.html\">Django에 Social Login 붙이기: Django세팅부터 Facebook/Google 개발 설정까지</a>,\n",
       " <a href=\"/beomi.github.io_old/python/2017/02/01/Django-CustomAuth.html\">Django에 Custom인증 붙이기</a>,\n",
       " <a href=\"/beomi.github.io_old/python/2017/01/20/HowToMakeWebCrawler-With-Login.html\">나만의 웹 크롤러 만들기(2): Login with Session</a>,\n",
       " <a href=\"/beomi.github.io_old/python/2017/01/19/HowToMakeWebCrawler.html\">나만의 웹 크롤러 만들기 with Requests/BeautifulSoup</a>,\n",
       " <a href=\"/beomi.github.io_old/2016/12/27/TelegramBot-with-Celery.html\">Celery로 TelegramBot 알림 보내기</a>,\n",
       " <a href=\"/beomi.github.io_old/2016/12/27/HowToSetup-Virtualenv-VirtualenvWrapper.html\">Virtualenv/VirtualenvWrapper OS별 설치&amp;이용법</a>,\n",
       " <a href=\"/beomi.github.io_old/djangotddstudy/2016/12/26/Django-TDD-Study-02-Using-UnitTest.html\">[DjangoTDDStudy] #02: UnitTest 이용해 기능 테스트 하기</a>,\n",
       " <a href=\"/beomi.github.io_old/djangotddstudy/2016/12/26/Django-TDD-Study-01-Setting-DevEnviron.html\">[DjangoTDDStudy] #01: 개발환경 세팅하기(Selenium / ChromeDriver)</a>,\n",
       " <a href=\"/beomi.github.io_old/djangotddstudy/2016/12/26/Django-TDD-Study-00-Starting-Study.html\">[DjangoTDDStudy] #00: 스터디를 시작하며</a>,\n",
       " <a href=\"/beomi.github.io_old/2016/12/21/Fabric-Put-Command-No-Such-File-Exception.html\">Fabric Put 커맨드가 No Such File Exception을 반환할 때 해결법</a>,\n",
       " <a href=\"/beomi.github.io_old/2016/12/21/CKEditor-Lisence-and-Pricing.html\">CKEditor의 라이센스와 오픈소스 라이센스</a>,\n",
       " <a href=\"/beomi.github.io_old/translation/2016/12/20/ReactNative-Translation-Intro-Finish.html\">ReactNative The Basis 번역을 끝냈습니다.</a>,\n",
       " <a href=\"/beomi.github.io_old/translation/2016/11/15/ReactNative-Translation-01-getting-started.html\">[React Native 번역]#01: 시작하기</a>,\n",
       " <a href=\"/beomi.github.io_old/django-celery/programming/python/translation/2016/11/04/eb-b2-88-ec-97-ad-ec-9e-a5-ea-b3-a0django-ec-99-80-ed-95-a8-ea-bb-98-ed-95-98-eb-8a-94-celery-ec-b2-ab-ea-b1-b8-ec-9d-8c.html\">[번역] 장고(Django)와 함께하는 Celery 첫걸음</a>,\n",
       " <a href=\"/beomi.github.io_old/tech/2016/09/14/chrome-native-adblockr-eb-8c-80-ec-b2-b4-ed-95-98-ea-b8-b0.html\">Chrome Native Adblockr 대체하기</a>,\n",
       " <a href=\"/beomi.github.io_old/dev%20env%20setup/mac%20/%20os%20x/tech/2016/08/09/customac-ec-84-a4-ec-b9-98-eb-b6-84-ed-88-ac-ea-b8-b0.html\">CustoMac 설치 분투기</a>,\n",
       " <a href=\"/beomi.github.io_old/dev%20env%20setup/tech/ubuntu%20/%20debian/2016/07/22/ubuntu14-04-ec-97-90-ohmyzsh-ec-84-a4-ec-b9-98.html\">Ubuntu14.04에 OhMyZsh 설치</a>,\n",
       " <a href=\"/beomi.github.io_old/programming/python/tech/2016/07/22/ubuntu14-04-ec-97-90-ec-84-9c-pip-eb-a1-9c-mysqlclient-ec-84-a4-ec-b9-98-ec-8b-a4-ed-8c-a8-ec-8b-9c.html\">Ubuntu14.04에서 pip로 mysqlclient 설치 실패시</a>,\n",
       " <a href=\"/beomi.github.io_old/mac%20/%20os%20x/programming/python/tech/2016/07/22/ubuntu14-04-ec-97-90-ec-84-9c-python3-ea-b8-b0-eb-b0-98-virtualenvwrapper-ec-84-a4-ec-b9-98.html\">Ubuntu14.04에서 Python3기반 virtualenvwrapper 설치</a>,\n",
       " <a href=\"/beomi.github.io_old/mac%20/%20os%20x/programming/python/tech/2016/07/21/mac-os-x-ec-97-90-ec-84-9c-pip-virtualenvwrapper-ec-84-a4-ec-b9-98-ec-8b-9c-uninstalling-six-ec-97-90-ec-84-9c-exception-eb-b0-9c-ec-83-9d-ec-8b-9c.html\">mac OS X에서 pip virtualenvwrapper 설치 시 uninstalling six 에서 Exception 발생 시</a>,\n",
       " <a href=\"/beomi.github.io_old/programming/python/2016/07/17/fabric-for-python3-fabric3.html\">Fabric for Python3 (Fabric3)</a>,\n",
       " <a href=\"/beomi.github.io_old/programming/python/2016/06/04/windows-ec-97-90-ec-84-9c-pip-eb-a1-9c-mysqlclient-ec-84-a4-ec-b9-98-ec-8b-a4-ed-8c-a8-ec-8b-9cpython3-43-5.html\">Windows에서 pip로 mysqlclient 설치 실패시(python3.4/3.5)</a>,\n",
       " <a href=\"/beomi.github.io_old/mac%20/%20os%20x/tech/2016/05/27/eb-a7-a5-ec-97-90-ec-84-9c-ec-9c-88-eb-8f-84rdp-eb-a1-9c-ec-a0-91-ec-86-8d-ec-8b-9c-ed-95-9c-ec-98-81-ec-a0-84-ed-99-98-ed-95-98-ea-b8-b0.html\">맥에서 윈도RDP로 접속시 한영전환하기.</a>,\n",
       " <a href=\"/beomi.github.io_old/programming/python/2016/05/27/pip-eb-a1-9c-mysqlclient-ec-84-a4-ec-b9-98-ec-a4-91-mac-os-x-ec-97-90-ec-84-9c-egg_info-oserror-eb-b0-9c-ec-83-9d-ec-8b-9c-eb-8c-80-ec-b2-98-eb-b0-a9-eb-b2-95.html\">pip로 mysqlclient설치 중 mac os x에서 egg_info / OSError 발생시 대처방법</a>]"
      ]
     },
     "execution_count": 34,
     "metadata": {},
     "output_type": "execute_result"
    }
   ],
   "source": [
    "req = requests.get('https://beomi.github.io/beomi.github.io_old/')\n",
    "html = req.text\n",
    "soup = BeautifulSoup(html, 'html.parser'\n",
    "                  #   , from_encoding='utf-8'\n",
    "                    )\n",
    "my_titles = soup.select(\n",
    "    'h3 > a'\n",
    "    )\n",
    "my_titles"
   ]
  },
  {
   "cell_type": "code",
   "execution_count": 35,
   "metadata": {
    "scrolled": true
   },
   "outputs": [
    {
     "name": "stdout",
     "output_type": "stream",
     "text": [
      "{'나만의 웹 크롤러 만들기(4): Django로 크롤링한 데이터 저장하기': '/beomi.github.io_old/python/2017/02/28/HowToMakeWebCrawler-Save-with-Django.html', '나만의 웹 크롤러 만들기(3): Selenium으로 무적 크롤러 만들기': '/beomi.github.io_old/python/2017/02/27/HowToMakeWebCrawler-With-Selenium.html', 'Django에 Social Login 붙이기: Django세팅부터 Facebook/Google 개발 설정까지': '/beomi.github.io_old/python/2017/02/08/Setup-SocialAuth-for-Django.html', 'Django에 Custom인증 붙이기': '/beomi.github.io_old/python/2017/02/01/Django-CustomAuth.html', '나만의 웹 크롤러 만들기(2): Login with Session': '/beomi.github.io_old/python/2017/01/20/HowToMakeWebCrawler-With-Login.html', '나만의 웹 크롤러 만들기 with Requests/BeautifulSoup': '/beomi.github.io_old/python/2017/01/19/HowToMakeWebCrawler.html', 'Celery로 TelegramBot 알림 보내기': '/beomi.github.io_old/2016/12/27/TelegramBot-with-Celery.html', 'Virtualenv/VirtualenvWrapper OS별 설치&이용법': '/beomi.github.io_old/2016/12/27/HowToSetup-Virtualenv-VirtualenvWrapper.html', '[DjangoTDDStudy] #02: UnitTest 이용해 기능 테스트 하기': '/beomi.github.io_old/djangotddstudy/2016/12/26/Django-TDD-Study-02-Using-UnitTest.html', '[DjangoTDDStudy] #01: 개발환경 세팅하기(Selenium / ChromeDriver)': '/beomi.github.io_old/djangotddstudy/2016/12/26/Django-TDD-Study-01-Setting-DevEnviron.html', '[DjangoTDDStudy] #00: 스터디를 시작하며': '/beomi.github.io_old/djangotddstudy/2016/12/26/Django-TDD-Study-00-Starting-Study.html', 'Fabric Put 커맨드가 No Such File Exception을 반환할 때 해결법': '/beomi.github.io_old/2016/12/21/Fabric-Put-Command-No-Such-File-Exception.html', 'CKEditor의 라이센스와 오픈소스 라이센스': '/beomi.github.io_old/2016/12/21/CKEditor-Lisence-and-Pricing.html', 'ReactNative The Basis 번역을 끝냈습니다.': '/beomi.github.io_old/translation/2016/12/20/ReactNative-Translation-Intro-Finish.html', '[React Native 번역]#01: 시작하기': '/beomi.github.io_old/translation/2016/11/15/ReactNative-Translation-01-getting-started.html', '[번역] 장고(Django)와 함께하는 Celery 첫걸음': '/beomi.github.io_old/django-celery/programming/python/translation/2016/11/04/eb-b2-88-ec-97-ad-ec-9e-a5-ea-b3-a0django-ec-99-80-ed-95-a8-ea-bb-98-ed-95-98-eb-8a-94-celery-ec-b2-ab-ea-b1-b8-ec-9d-8c.html', 'Chrome Native Adblockr 대체하기': '/beomi.github.io_old/tech/2016/09/14/chrome-native-adblockr-eb-8c-80-ec-b2-b4-ed-95-98-ea-b8-b0.html', 'CustoMac 설치 분투기': '/beomi.github.io_old/dev%20env%20setup/mac%20/%20os%20x/tech/2016/08/09/customac-ec-84-a4-ec-b9-98-eb-b6-84-ed-88-ac-ea-b8-b0.html', 'Ubuntu14.04에 OhMyZsh 설치': '/beomi.github.io_old/dev%20env%20setup/tech/ubuntu%20/%20debian/2016/07/22/ubuntu14-04-ec-97-90-ohmyzsh-ec-84-a4-ec-b9-98.html', 'Ubuntu14.04에서 pip로 mysqlclient 설치 실패시': '/beomi.github.io_old/programming/python/tech/2016/07/22/ubuntu14-04-ec-97-90-ec-84-9c-pip-eb-a1-9c-mysqlclient-ec-84-a4-ec-b9-98-ec-8b-a4-ed-8c-a8-ec-8b-9c.html', 'Ubuntu14.04에서 Python3기반 virtualenvwrapper 설치': '/beomi.github.io_old/mac%20/%20os%20x/programming/python/tech/2016/07/22/ubuntu14-04-ec-97-90-ec-84-9c-python3-ea-b8-b0-eb-b0-98-virtualenvwrapper-ec-84-a4-ec-b9-98.html', 'mac OS X에서 pip virtualenvwrapper 설치 시 uninstalling six 에서 Exception 발생 시': '/beomi.github.io_old/mac%20/%20os%20x/programming/python/tech/2016/07/21/mac-os-x-ec-97-90-ec-84-9c-pip-virtualenvwrapper-ec-84-a4-ec-b9-98-ec-8b-9c-uninstalling-six-ec-97-90-ec-84-9c-exception-eb-b0-9c-ec-83-9d-ec-8b-9c.html', 'Fabric for Python3 (Fabric3)': '/beomi.github.io_old/programming/python/2016/07/17/fabric-for-python3-fabric3.html', 'Windows에서 pip로 mysqlclient 설치 실패시(python3.4/3.5)': '/beomi.github.io_old/programming/python/2016/06/04/windows-ec-97-90-ec-84-9c-pip-eb-a1-9c-mysqlclient-ec-84-a4-ec-b9-98-ec-8b-a4-ed-8c-a8-ec-8b-9cpython3-43-5.html', '맥에서 윈도RDP로 접속시 한영전환하기.': '/beomi.github.io_old/mac%20/%20os%20x/tech/2016/05/27/eb-a7-a5-ec-97-90-ec-84-9c-ec-9c-88-eb-8f-84rdp-eb-a1-9c-ec-a0-91-ec-86-8d-ec-8b-9c-ed-95-9c-ec-98-81-ec-a0-84-ed-99-98-ed-95-98-ea-b8-b0.html', 'pip로 mysqlclient설치 중 mac os x에서 egg_info / OSError 발생시 대처방법': '/beomi.github.io_old/programming/python/2016/05/27/pip-eb-a1-9c-mysqlclient-ec-84-a4-ec-b9-98-ec-a4-91-mac-os-x-ec-97-90-ec-84-9c-egg_info-oserror-eb-b0-9c-ec-83-9d-ec-8b-9c-eb-8c-80-ec-b2-98-eb-b0-a9-eb-b2-95.html'}\n"
     ]
    }
   ],
   "source": [
    "data ={}\n",
    "\n",
    "for title in my_titles:\n",
    "    data[title.text] = title.get('href')\n",
    "import chardet\n",
    "\n",
    "print(data)"
   ]
  },
  {
   "cell_type": "code",
   "execution_count": 31,
   "metadata": {},
   "outputs": [],
   "source": [
    "with open(os.path.join(BASE_DIR, 'result.json'), 'w+') as json_file:\n",
    "    json.dump(data, json_file)"
   ]
  },
  {
   "cell_type": "code",
   "execution_count": null,
   "metadata": {},
   "outputs": [],
   "source": []
  }
 ],
 "metadata": {
  "kernelspec": {
   "display_name": "Python 3",
   "language": "python",
   "name": "python3"
  },
  "language_info": {
   "codemirror_mode": {
    "name": "ipython",
    "version": 3
   },
   "file_extension": ".py",
   "mimetype": "text/x-python",
   "name": "python",
   "nbconvert_exporter": "python",
   "pygments_lexer": "ipython3",
   "version": "3.7.0"
  }
 },
 "nbformat": 4,
 "nbformat_minor": 2
}
